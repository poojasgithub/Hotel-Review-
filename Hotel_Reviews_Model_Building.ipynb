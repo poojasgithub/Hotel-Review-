{
 "cells": [
  {
   "cell_type": "markdown",
   "metadata": {},
   "source": [
    "# **Group 1**\n",
    "# **Project 339 Hotel Reviews**\n",
    "## **Part 2 - Model Building**"
   ]
  },
  {
   "cell_type": "code",
   "execution_count": 1,
   "metadata": {},
   "outputs": [
    {
     "name": "stderr",
     "output_type": "stream",
     "text": [
      "[nltk_data] Downloading package stopwords to\n",
      "[nltk_data]     C:\\Users\\Dell\\AppData\\Roaming\\nltk_data...\n",
      "[nltk_data]   Package stopwords is already up-to-date!\n",
      "[nltk_data] Downloading package vader_lexicon to\n",
      "[nltk_data]     C:\\Users\\Dell\\AppData\\Roaming\\nltk_data...\n",
      "[nltk_data]   Package vader_lexicon is already up-to-date!\n"
     ]
    },
    {
     "data": {
      "text/plain": [
       "True"
      ]
     },
     "execution_count": 1,
     "metadata": {},
     "output_type": "execute_result"
    }
   ],
   "source": [
    "from os import cpu_count\n",
    "import re\n",
    "import pickle\n",
    "import numpy as np\n",
    "import pandas as pd\n",
    "import json\n",
    "\n",
    "from sklearn.feature_extraction.text import TfidfVectorizer\n",
    "from sklearn.model_selection import train_test_split\n",
    "from sklearn.linear_model import LogisticRegression\n",
    "from sklearn.tree import DecisionTreeClassifier\n",
    "from sklearn.ensemble import RandomForestClassifier, AdaBoostClassifier, StackingClassifier\n",
    "from sklearn.neighbors import KNeighborsClassifier\n",
    "from sklearn.naive_bayes import GaussianNB\n",
    "from sklearn.svm import SVC\n",
    "from xgboost import XGBClassifier\n",
    "from sklearn.preprocessing import StandardScaler\n",
    "from sklearn.metrics import roc_auc_score, roc_curve\n",
    "from sklearn.metrics import classification_report\n",
    "\n",
    "from colorama import Fore, Style\n",
    "from imblearn.over_sampling import SVMSMOTE\n",
    "\n",
    "import spacy\n",
    "import math\n",
    "\n",
    "from plotly.subplots import make_subplots\n",
    "import plotly.graph_objects as go\n",
    "import matplotlib.pyplot as plt\n",
    "\n",
    "import nltk\n",
    "from nltk.sentiment.vader import SentimentIntensityAnalyzer\n",
    "from nltk.corpus import stopwords\n",
    "nltk.download('stopwords')\n",
    "nltk.download('vader_lexicon')"
   ]
  },
  {
   "cell_type": "code",
   "execution_count": 2,
   "metadata": {},
   "outputs": [],
   "source": [
    "CPU_COUNT = cpu_count()\n",
    "stop_words = stopwords.words(\"english\")\n",
    "nlp = spacy.load(\"en_core_web_sm\")\n",
    "\n",
    "with open('negations.json') as f:\n",
    "    negations = json.load(f)\n",
    "\n",
    "def make_string(tokens: list) -> str:\n",
    "    return \" \".join(tokens)"
   ]
  },
  {
   "cell_type": "markdown",
   "metadata": {},
   "source": [
    "## Loading Reviews"
   ]
  },
  {
   "cell_type": "code",
   "execution_count": 3,
   "metadata": {},
   "outputs": [
    {
     "data": {
      "text/html": [
       "<div>\n",
       "<style scoped>\n",
       "    .dataframe tbody tr th:only-of-type {\n",
       "        vertical-align: middle;\n",
       "    }\n",
       "\n",
       "    .dataframe tbody tr th {\n",
       "        vertical-align: top;\n",
       "    }\n",
       "\n",
       "    .dataframe thead th {\n",
       "        text-align: right;\n",
       "    }\n",
       "</style>\n",
       "<table border=\"1\" class=\"dataframe\">\n",
       "  <thead>\n",
       "    <tr style=\"text-align: right;\">\n",
       "      <th></th>\n",
       "      <th>Reviews</th>\n",
       "      <th>Sentiment</th>\n",
       "    </tr>\n",
       "  </thead>\n",
       "  <tbody>\n",
       "    <tr>\n",
       "      <th>0</th>\n",
       "      <td>[nice, hotel, expensive, parking, get, good, d...</td>\n",
       "      <td>Positive</td>\n",
       "    </tr>\n",
       "    <tr>\n",
       "      <th>1</th>\n",
       "      <td>[ok, nothing, special, charge, diamond, member...</td>\n",
       "      <td>Positive</td>\n",
       "    </tr>\n",
       "    <tr>\n",
       "      <th>2</th>\n",
       "      <td>[nice, room, not, experience, hotel, monaco, s...</td>\n",
       "      <td>Positive</td>\n",
       "    </tr>\n",
       "    <tr>\n",
       "      <th>3</th>\n",
       "      <td>[unique, great, stay, wonderful, time, hotel, ...</td>\n",
       "      <td>Positive</td>\n",
       "    </tr>\n",
       "    <tr>\n",
       "      <th>4</th>\n",
       "      <td>[great, stay, great, stay, go, seahawk, game, ...</td>\n",
       "      <td>Positive</td>\n",
       "    </tr>\n",
       "  </tbody>\n",
       "</table>\n",
       "</div>"
      ],
      "text/plain": [
       "                                             Reviews Sentiment\n",
       "0  [nice, hotel, expensive, parking, get, good, d...  Positive\n",
       "1  [ok, nothing, special, charge, diamond, member...  Positive\n",
       "2  [nice, room, not, experience, hotel, monaco, s...  Positive\n",
       "3  [unique, great, stay, wonderful, time, hotel, ...  Positive\n",
       "4  [great, stay, great, stay, go, seahawk, game, ...  Positive"
      ]
     },
     "execution_count": 3,
     "metadata": {},
     "output_type": "execute_result"
    }
   ],
   "source": [
    "reviews = pd.read_pickle('processed_reviews_with_sentiment.pkl')\n",
    "reviews.head()"
   ]
  },
  {
   "cell_type": "markdown",
   "metadata": {},
   "source": [
    "## Training Doc2Vec to generate document embeddings"
   ]
  },
  {
   "cell_type": "code",
   "execution_count": 4,
   "metadata": {},
   "outputs": [],
   "source": [
    "vectorizer = TfidfVectorizer(min_df=0.1, max_df=0.9, strip_accents='unicode', ngram_range=(1, 2))\n",
    "text = reviews['Reviews'].apply(make_string).values\n",
    "tfidf_embeddings = vectorizer.fit_transform(text)\n",
    "with open('tfidf-vectorizer.pkl', 'wb') as f:\n",
    "    pickle.dump(vectorizer, f)\n",
    "with open('tfidf-embeddings.pkl', 'wb') as f:\n",
    "    pickle.dump(tfidf_embeddings, f)"
   ]
  },
  {
   "cell_type": "code",
   "execution_count": 5,
   "metadata": {},
   "outputs": [],
   "source": [
    "with open('tfidf-vectorizer.pkl', 'rb') as f:\n",
    "    vectorizer = pickle.load(f)\n",
    "with open('tfidf-embeddings.pkl', 'rb') as f:\n",
    "    tfidf_embeddings = pickle.load(f)"
   ]
  },
  {
   "cell_type": "markdown",
   "metadata": {},
   "source": [
    "## Preparing data for training classification models"
   ]
  },
  {
   "cell_type": "code",
   "execution_count": 6,
   "metadata": {},
   "outputs": [
    {
     "data": {
      "text/plain": [
       "(array([0, 1], dtype=int64), array([ 1447, 19044], dtype=int64))"
      ]
     },
     "execution_count": 6,
     "metadata": {},
     "output_type": "execute_result"
    }
   ],
   "source": [
    "x = tfidf_embeddings.toarray()\n",
    "y = reviews['Sentiment'].apply(lambda s: 1 if s == 'Positive' else 0).values\n",
    "np.unique(y, return_counts=True)"
   ]
  },
  {
   "cell_type": "markdown",
   "metadata": {},
   "source": [
    "### Oversampling"
   ]
  },
  {
   "cell_type": "code",
   "execution_count": 7,
   "metadata": {},
   "outputs": [
    {
     "data": {
      "text/plain": [
       "(array([0, 1], dtype=int64), array([19044, 19044], dtype=int64))"
      ]
     },
     "execution_count": 7,
     "metadata": {},
     "output_type": "execute_result"
    }
   ],
   "source": [
    "svm_smote = SVMSMOTE(random_state=34)\n",
    "svm_smote_result = svm_smote.fit_resample(x, y)\n",
    "x_smote, y_smote = svm_smote_result[0], svm_smote_result[1]\n",
    "np.unique(y_smote, return_counts=True)"
   ]
  },
  {
   "cell_type": "markdown",
   "metadata": {},
   "source": [
    "## Splitting Data"
   ]
  },
  {
   "cell_type": "code",
   "execution_count": 8,
   "metadata": {},
   "outputs": [],
   "source": [
    "x_train, x_test, y_train, y_test = train_test_split(x_smote, y_smote, test_size=0.3, random_state=34)"
   ]
  },
  {
   "cell_type": "code",
   "execution_count": 9,
   "metadata": {},
   "outputs": [],
   "source": [
    "scaler = StandardScaler()\n",
    "x_train = scaler.fit_transform(x_train)\n",
    "x_test = scaler.transform(x_test)"
   ]
  },
  {
   "cell_type": "markdown",
   "metadata": {},
   "source": [
    "### Save Standard Scaler"
   ]
  },
  {
   "cell_type": "code",
   "execution_count": 10,
   "metadata": {},
   "outputs": [],
   "source": [
    "with open('standard-scaler', 'wb') as f:\n",
    "    pickle.dump(scaler, f)"
   ]
  },
  {
   "cell_type": "markdown",
   "metadata": {},
   "source": [
    "### Load Standard Sacler"
   ]
  },
  {
   "cell_type": "code",
   "execution_count": 11,
   "metadata": {},
   "outputs": [],
   "source": [
    "with open('standard-scaler', 'rb') as f:\n",
    "    scaler = pickle.load(f)"
   ]
  },
  {
   "cell_type": "markdown",
   "metadata": {},
   "source": [
    "## Training Different Classification Models"
   ]
  },
  {
   "cell_type": "markdown",
   "metadata": {},
   "source": [
    "### **1. Logistic Regression**"
   ]
  },
  {
   "cell_type": "code",
   "execution_count": 12,
   "metadata": {},
   "outputs": [
    {
     "name": "stdout",
     "output_type": "stream",
     "text": [
      "\u001b[0m\u001b[1m\u001b[91mLogistic Regression-\n",
      "\u001b[0m\u001b[1m\u001b[94m              precision    recall  f1-score   support\n",
      "\n",
      "           0       0.92      0.95      0.93      5793\n",
      "           1       0.94      0.92      0.93      5634\n",
      "\n",
      "    accuracy                           0.93     11427\n",
      "   macro avg       0.93      0.93      0.93     11427\n",
      "weighted avg       0.93      0.93      0.93     11427\n",
      "\n"
     ]
    },
    {
     "ename": "FileNotFoundError",
     "evalue": "[Errno 2] No such file or directory: '../Models/Sentiment-Classifier-LR.pkl'",
     "output_type": "error",
     "traceback": [
      "\u001b[1;31m---------------------------------------------------------------------------\u001b[0m",
      "\u001b[1;31mFileNotFoundError\u001b[0m                         Traceback (most recent call last)",
      "Cell \u001b[1;32mIn[12], line 20\u001b[0m\n\u001b[0;32m     17\u001b[0m plt\u001b[38;5;241m.\u001b[39mtitle(\u001b[38;5;124m'\u001b[39m\u001b[38;5;124mReceiver operating characteristic\u001b[39m\u001b[38;5;124m'\u001b[39m)\n\u001b[0;32m     18\u001b[0m plt\u001b[38;5;241m.\u001b[39mlegend(loc\u001b[38;5;241m=\u001b[39m\u001b[38;5;124m\"\u001b[39m\u001b[38;5;124mlower right\u001b[39m\u001b[38;5;124m\"\u001b[39m)\n\u001b[1;32m---> 20\u001b[0m \u001b[38;5;28;01mwith\u001b[39;00m \u001b[38;5;28;43mopen\u001b[39;49m\u001b[43m(\u001b[49m\u001b[38;5;124;43m'\u001b[39;49m\u001b[38;5;124;43m../Models/Sentiment-Classifier-LR.pkl\u001b[39;49m\u001b[38;5;124;43m'\u001b[39;49m\u001b[43m,\u001b[49m\u001b[43m \u001b[49m\u001b[38;5;124;43m'\u001b[39;49m\u001b[38;5;124;43mwb\u001b[39;49m\u001b[38;5;124;43m'\u001b[39;49m\u001b[43m)\u001b[49m \u001b[38;5;28;01mas\u001b[39;00m f:\n\u001b[0;32m     21\u001b[0m     pickle\u001b[38;5;241m.\u001b[39mdump(lgc, f)\n",
      "File \u001b[1;32m~\\anaconda3\\lib\\site-packages\\IPython\\core\\interactiveshell.py:282\u001b[0m, in \u001b[0;36m_modified_open\u001b[1;34m(file, *args, **kwargs)\u001b[0m\n\u001b[0;32m    275\u001b[0m \u001b[38;5;28;01mif\u001b[39;00m file \u001b[38;5;129;01min\u001b[39;00m {\u001b[38;5;241m0\u001b[39m, \u001b[38;5;241m1\u001b[39m, \u001b[38;5;241m2\u001b[39m}:\n\u001b[0;32m    276\u001b[0m     \u001b[38;5;28;01mraise\u001b[39;00m \u001b[38;5;167;01mValueError\u001b[39;00m(\n\u001b[0;32m    277\u001b[0m         \u001b[38;5;124mf\u001b[39m\u001b[38;5;124m\"\u001b[39m\u001b[38;5;124mIPython won\u001b[39m\u001b[38;5;124m'\u001b[39m\u001b[38;5;124mt let you open fd=\u001b[39m\u001b[38;5;132;01m{\u001b[39;00mfile\u001b[38;5;132;01m}\u001b[39;00m\u001b[38;5;124m by default \u001b[39m\u001b[38;5;124m\"\u001b[39m\n\u001b[0;32m    278\u001b[0m         \u001b[38;5;124m\"\u001b[39m\u001b[38;5;124mas it is likely to crash IPython. If you know what you are doing, \u001b[39m\u001b[38;5;124m\"\u001b[39m\n\u001b[0;32m    279\u001b[0m         \u001b[38;5;124m\"\u001b[39m\u001b[38;5;124myou can use builtins\u001b[39m\u001b[38;5;124m'\u001b[39m\u001b[38;5;124m open.\u001b[39m\u001b[38;5;124m\"\u001b[39m\n\u001b[0;32m    280\u001b[0m     )\n\u001b[1;32m--> 282\u001b[0m \u001b[38;5;28;01mreturn\u001b[39;00m io_open(file, \u001b[38;5;241m*\u001b[39margs, \u001b[38;5;241m*\u001b[39m\u001b[38;5;241m*\u001b[39mkwargs)\n",
      "\u001b[1;31mFileNotFoundError\u001b[0m: [Errno 2] No such file or directory: '../Models/Sentiment-Classifier-LR.pkl'"
     ]
    },
    {
     "data": {
      "image/png": "[encoded data removed]",
      "text/plain": [
       "<Figure size 640x480 with 1 Axes>"
      ]
     },
     "metadata": {},
     "output_type": "display_data"
    }
   ],
   "source": [
    "lgc = LogisticRegression(n_jobs=-1, random_state=34)\n",
    "lgc.fit(x_train, y_train)\n",
    "y_pred = lgc.predict(x_test)\n",
    "y_score = lgc.predict_proba(x_test)[:, 1]\n",
    "auc_score = roc_auc_score(y_test, y_score)\n",
    "\n",
    "print(Style.RESET_ALL + Style.BRIGHT + Fore.LIGHTRED_EX + \"Logistic Regression-\")\n",
    "print(Style.RESET_ALL + Style.BRIGHT + Fore.LIGHTBLUE_EX + f'{classification_report(y_test, y_pred)}')\n",
    "\n",
    "fpr, tpr, thresholds = roc_curve(y_test, y_score)\n",
    "plt.plot(fpr, tpr, label='Logistic Regression (area = %0.2f)' % auc_score)\n",
    "plt.plot([0, 1], [0, 1], 'k--') # random predictions curve\n",
    "plt.xlim([0.0, 1.0])\n",
    "plt.ylim([0.0, 1.05])\n",
    "plt.xlabel('False Positive Rate')\n",
    "plt.ylabel('True Positive Rate')\n",
    "plt.title('Receiver operating characteristic')\n",
    "plt.legend(loc=\"lower right\")\n",
    "\n",
    "with open('../Models/Sentiment-Classifier-LR.pkl', 'wb') as f:\n",
    "    pickle.dump(lgc, f)"
   ]
  },
  {
   "cell_type": "markdown",
   "metadata": {},
   "source": [
    "### **2. Decision Tree**"
   ]
  },
  {
   "cell_type": "code",
   "execution_count": null,
   "metadata": {},
   "outputs": [],
   "source": [
    "dt = DecisionTreeClassifier(criterion='gini', random_state=34)\n",
    "dt.fit(x_train, y_train)\n",
    "y_pred = dt.predict(x_test)\n",
    "y_score = dt.predict_proba(x_test)[:, 1]\n",
    "auc_score = roc_auc_score(y_test, y_score)\n",
    "\n",
    "print(Style.RESET_ALL + Style.BRIGHT + Fore.LIGHTRED_EX + \"Decision Tree-\")\n",
    "print(Style.RESET_ALL + Style.BRIGHT + Fore.LIGHTBLUE_EX + f'{classification_report(y_test, y_pred)}')\n",
    "\n",
    "fpr, tpr, thresholds = roc_curve(y_test, y_score)\n",
    "plt.plot(fpr, tpr, label='Decision Tree (area = %0.2f)' % auc_score)\n",
    "plt.plot([0, 1], [0, 1], 'k--') # random predictions curve\n",
    "plt.xlim([0.0, 1.0])\n",
    "plt.ylim([0.0, 1.05])\n",
    "plt.xlabel('False Positive Rate')\n",
    "plt.ylabel('True Positive Rate')\n",
    "plt.title('Receiver operating characteristic')\n",
    "plt.legend(loc=\"lower right\")\n",
    "\n",
    "with open('../Models/Sentiment-Classifier-DT.pkl', 'wb') as f:\n",
    "    pickle.dump(dt, f)"
   ]
  },
  {
   "cell_type": "markdown",
   "metadata": {},
   "source": [
    "### **3. Random Forest**"
   ]
  },
  {
   "cell_type": "code",
   "execution_count": null,
   "metadata": {},
   "outputs": [],
   "source": [
    "rf = RandomForestClassifier(n_estimators=100, criterion='gini', random_state=34, n_jobs=-1)\n",
    "rf.fit(x_train, y_train)\n",
    "y_pred = rf.predict(x_test)\n",
    "y_score = rf.predict_proba(x_test)[:, 1]\n",
    "auc_score = roc_auc_score(y_test, y_score)\n",
    "\n",
    "print(Style.RESET_ALL + Style.BRIGHT + Fore.LIGHTRED_EX + \"Decision Tree-\")\n",
    "print(Style.RESET_ALL + Style.BRIGHT + Fore.LIGHTBLUE_EX + f'{classification_report(y_test, y_pred)}')\n",
    "\n",
    "fpr, tpr, thresholds = roc_curve(y_test, y_score)\n",
    "plt.plot(fpr, tpr, label='Random Forest (area = %0.2f)' % auc_score)\n",
    "plt.plot([0, 1], [0, 1], 'k--') # random predictions curve\n",
    "plt.xlim([0, 1.0])\n",
    "plt.ylim([0.0, 1.05])\n",
    "plt.xlabel('False Positive Rate')\n",
    "plt.ylabel('True Positive Rate')\n",
    "plt.title('Receiver operating characteristic')\n",
    "plt.legend(loc=\"lower right\")\n",
    "\n",
    "with open('../Models/Sentiment-Classifier-RF.pkl', 'wb') as f:\n",
    "    pickle.dump(rf, f)"
   ]
  },
  {
   "cell_type": "markdown",
   "metadata": {},
   "source": [
    "### **4. AdaBoost**"
   ]
  },
  {
   "cell_type": "code",
   "execution_count": null,
   "metadata": {},
   "outputs": [],
   "source": [
    "adb = AdaBoostClassifier(algorithm='SAMME.R', learning_rate=1, n_estimators=50, random_state=34)\n",
    "adb.fit(x_train, y_train)\n",
    "y_pred = adb.predict(x_test)\n",
    "y_score = adb.predict_proba(x_test)[:, 1]\n",
    "auc_score = roc_auc_score(y_test, y_score)\n",
    "\n",
    "print(Style.RESET_ALL + Style.BRIGHT + Fore.LIGHTRED_EX + \"AdaBoost-\")\n",
    "print(Style.RESET_ALL + Style.BRIGHT + Fore.LIGHTBLUE_EX + f'{classification_report(y_test, y_pred)}')\n",
    "\n",
    "fpr, tpr, thresholds = roc_curve(y_test, y_score)\n",
    "plt.plot(fpr, tpr, label='AdaBoost (area = %0.2f)' % auc_score)\n",
    "plt.plot([0, 1], [0, 1], 'k--') # random predictions curve\n",
    "plt.xlim([0.0, 1.0])\n",
    "plt.ylim([0.0, 1.05])\n",
    "plt.xlabel('False Positive Rate')\n",
    "plt.ylabel('True Positive Rate')\n",
    "plt.title('Receiver operating characteristic')\n",
    "plt.legend(loc=\"lower right\")\n",
    "\n",
    "with open('../Models/Sentiment-Classifier-ADB.pkl', 'wb') as f:\n",
    "    pickle.dump(adb, f)"
   ]
  },
  {
   "cell_type": "markdown",
   "metadata": {},
   "source": [
    "### **4. Support Vector Machine**"
   ]
  },
  {
   "cell_type": "code",
   "execution_count": null,
   "metadata": {},
   "outputs": [],
   "source": [
    "svc = SVC(kernel=\"rbf\", probability=True, random_state=34)\n",
    "svc.fit(x_train, y_train)\n",
    "y_pred = svc.predict(x_test)\n",
    "y_score = svc.predict_proba(x_test)[:, 1]\n",
    "auc_score = roc_auc_score(y_test, y_score)\n",
    "\n",
    "print(Style.RESET_ALL + Style.BRIGHT + Fore.LIGHTRED_EX + \"Support Vector Machine-\")\n",
    "print(Style.RESET_ALL + Style.BRIGHT + Fore.LIGHTBLUE_EX + f'{classification_report(y_test, y_pred)}')\n",
    "\n",
    "fpr, tpr, thresholds = roc_curve(y_test, y_score)\n",
    "plt.plot(fpr, tpr, label='Support Vector Machine (area = %0.2f)' % auc_score)\n",
    "plt.plot([0, 1], [0, 1], 'k--') # random predictions curve\n",
    "plt.xlim([0.0, 1.0])\n",
    "plt.ylim([0.0, 1.05])\n",
    "plt.xlabel('False Positive Rate')\n",
    "plt.ylabel('True Positive Rate')\n",
    "plt.title('Receiver operating characteristic')\n",
    "plt.legend(loc=\"lower right\")\n",
    "\n",
    "with open('../Models/Sentiment-Classifier-SVC.pkl', 'wb') as f:\n",
    "    pickle.dump(svc, f)"
   ]
  },
  {
   "cell_type": "markdown",
   "metadata": {},
   "source": [
    "### **5. KNN**"
   ]
  },
  {
   "cell_type": "code",
   "execution_count": null,
   "metadata": {},
   "outputs": [],
   "source": [
    "knn = KNeighborsClassifier(n_neighbors=3, p=2, n_jobs=-1)\n",
    "knn.fit(x_train, y_train)\n",
    "y_pred = knn.predict(x_test)\n",
    "y_score = knn.predict_proba(x_test)[:, 1]\n",
    "auc_score = roc_auc_score(y_test, y_score)\n",
    "\n",
    "print(Style.RESET_ALL + Style.BRIGHT + Fore.LIGHTRED_EX + \"KNN-\")\n",
    "print(Style.RESET_ALL + Style.BRIGHT + Fore.LIGHTBLUE_EX + f'{classification_report(y_test, y_pred)}')\n",
    "\n",
    "fpr, tpr, thresholds = roc_curve(y_test, y_score)\n",
    "plt.plot(fpr, tpr, label='KNN (area = %0.2f)' % auc_score)\n",
    "plt.plot([0, 1], [0, 1], 'k--') # random predictions curve\n",
    "plt.xlim([0.0, 1.0])\n",
    "plt.ylim([0.0, 1.05])\n",
    "plt.xlabel('False Positive Rate')\n",
    "plt.ylabel('True Positive Rate')\n",
    "plt.title('Receiver operating characteristic')\n",
    "plt.legend(loc=\"lower right\")\n",
    "\n",
    "with open('../Models/Sentiment-Classifier-KNN.pkl', 'wb') as f:\n",
    "    pickle.dump(knn, f)"
   ]
  },
  {
   "cell_type": "markdown",
   "metadata": {},
   "source": [
    "### **6. Gaussian Naive Bayes**"
   ]
  },
  {
   "cell_type": "code",
   "execution_count": null,
   "metadata": {},
   "outputs": [],
   "source": [
    "gnb = GaussianNB()\n",
    "gnb.fit(x_train, y_train)\n",
    "y_pred = gnb.predict(x_test)\n",
    "y_score = gnb.predict_proba(x_test)[:, 1]\n",
    "auc_score = roc_auc_score(y_test, y_score)\n",
    "\n",
    "print(Style.RESET_ALL + Style.BRIGHT + Fore.LIGHTRED_EX + \"Gaussian Naive Bayes-\")\n",
    "print(Style.RESET_ALL + Style.BRIGHT + Fore.LIGHTBLUE_EX + f'{classification_report(y_test, y_pred)}')\n",
    "\n",
    "fpr, tpr, thresholds = roc_curve(y_test, y_score)\n",
    "plt.plot(fpr, tpr, label='Gaussian Naive Bayes (area = %0.2f)' % auc_score)\n",
    "plt.plot([0, 1], [0, 1], 'k--') # random predictions curve\n",
    "plt.xlim([0.0, 1.0])\n",
    "plt.ylim([0.0, 1.05])\n",
    "plt.xlabel('False Positive Rate')\n",
    "plt.ylabel('True Positive Rate')\n",
    "plt.title('Receiver operating characteristic')\n",
    "plt.legend(loc=\"lower right\")\n",
    "\n",
    "with open('../Models/Sentiment-Classifier-GNB.pkl', 'wb') as f:\n",
    "    pickle.dump(gnb, f)"
   ]
  },
  {
   "cell_type": "markdown",
   "metadata": {},
   "source": [
    "### **8. XGBoost**"
   ]
  },
  {
   "cell_type": "code",
   "execution_count": null,
   "metadata": {},
   "outputs": [],
   "source": [
    "xgb = XGBClassifier(n_jobs=-1, random_state=34)\n",
    "xgb.fit(x_train, y_train)\n",
    "y_pred =  xgb.predict(x_test)\n",
    "y_score = xgb.predict_proba(x_test)[:, 1]\n",
    "auc_score = roc_auc_score(y_test, y_score)\n",
    "\n",
    "print(Style.RESET_ALL + Style.BRIGHT + Fore.LIGHTRED_EX + \"XGBoost-\")\n",
    "print(Style.RESET_ALL + Style.BRIGHT + Fore.LIGHTBLUE_EX + f'{classification_report(y_test, y_pred)}')\n",
    "\n",
    "fpr, tpr, thresholds = roc_curve(y_test, y_score)\n",
    "plt.plot(fpr, tpr, label='XGBoost (area = %0.2f)' % auc_score)\n",
    "plt.plot([0, 1], [0, 1], 'k--') # random predictions curve\n",
    "plt.xlim([0.0, 1.0])\n",
    "plt.ylim([0.0, 1.05])\n",
    "plt.xlabel('False Positive Rate')\n",
    "plt.ylabel('True Positive Rate')\n",
    "plt.title('Receiver operating characteristic')\n",
    "plt.legend(loc=\"lower right\")\n",
    "\n",
    "with open('../Models/Sentiment-Classifier-XGB.pkl', 'wb') as f:\n",
    "    pickle.dump(xgb, f)"
   ]
  },
  {
   "cell_type": "code",
   "execution_count": null,
   "metadata": {},
   "outputs": [],
   "source": [
    "accuracy_scores = dict(\n",
    "    LR=0.93, \n",
    "    DT=0.92, \n",
    "    RF=0.97, \n",
    "    AdaBoost=0.92, \n",
    "    SVM=0.98, \n",
    "    KNN=0.74, \n",
    "    GNB=0.90, \n",
    "    XGBoost=0.97\n",
    ")\n",
    "plt.figure(dpi=200)\n",
    "plt.bar(x=accuracy_scores.keys(), height=accuracy_scores.values())\n",
    "plt.xlabel('Model')\n",
    "plt.ylabel('Accuracy')"
   ]
  },
  {
   "cell_type": "markdown",
   "metadata": {},
   "source": [
    "## Prediction For New Review"
   ]
  },
  {
   "cell_type": "code",
   "execution_count": null,
   "metadata": {},
   "outputs": [],
   "source": [
    "def strip_leading_trailing_space(string: str) -> str:\n",
    "    return string.strip()\n",
    "def remove_alphanumeric(string: str) -> str:\n",
    "    pattern = re.compile(r'\\w*\\d\\w* ')\n",
    "    result = pattern.sub('', string)\n",
    "    return result\n",
    "def add_space_after_punctuation(string: str) -> str:\n",
    "    pattern = re.compile(r'(?<=[.,])(?=[^\\s])')\n",
    "    return pattern.sub(' ', string)\n",
    "def remove_unknown(string: str) -> str:\n",
    "    string = re.sub(r'__Çî__otal', '', string)\n",
    "    string = re.sub(r'__Ç_é_', '', string)\n",
    "    return string\n",
    "def correct_spellings(string: str) -> str:\n",
    "    string = re.sub(r\"\\b(can't)\\b|\\B(can't)\\B\", r' \\1\\2 ', string)\n",
    "    string = re.sub(r\"(?<=\\s)ca n't(?=[\\s.,!?])\", \"can't\", string)\n",
    "    string = re.sub(r\"(?<=\\s)n't(?=[\\s.,!?])\", \"can't\", string)\n",
    "    string = re.sub(r'(?<=\\s)n(?=[\\s.,!?])', \"and\", string)\n",
    "    string = re.sub(r'(?<=\\s)u(?=[\\s.,!?])', \"you\", string)\n",
    "    return string\n",
    "def remove_tokens_with_special_characters(tokens: list) -> list:\n",
    "    pattern = re.compile('[^a-zA-Z0-9]')\n",
    "    return [token for token in tokens if not pattern.search(token)]\n",
    "def remove_tokens_with_numbers(tokens: list) -> list:\n",
    "    pattern = re.compile(r'\\d')\n",
    "    return [token for token in tokens if not pattern.search(token)]\n",
    "def lemmatize(string: str) -> list:\n",
    "    lemma_arr = []\n",
    "    doc = nlp(string)\n",
    "    for token in doc:\n",
    "        lemma_arr.append(token.lemma_)\n",
    "    return lemma_arr\n",
    "def to_lowercase(tokens: list) -> list:\n",
    "    return [token.lower() for token in tokens]\n",
    "def remove_stopwords(tokens: list) -> list:\n",
    "    result = []\n",
    "    for token in tokens:\n",
    "        if token not in stop_words:\n",
    "            result.append(token)\n",
    "        elif token in stop_words and token in negations:\n",
    "            result.append(token)\n",
    "    return result"
   ]
  },
  {
   "cell_type": "code",
   "execution_count": null,
   "metadata": {},
   "outputs": [],
   "source": [
    "def preprocess_review(string: str) -> list:\n",
    "    string = strip_leading_trailing_space(string)\n",
    "    string = remove_unknown(string)\n",
    "    string = add_space_after_punctuation(string)\n",
    "    string = correct_spellings(string)\n",
    "    string = remove_alphanumeric(string)\n",
    "    tokens = lemmatize(string)\n",
    "    tokens = to_lowercase(tokens)\n",
    "    tokens = remove_stopwords(tokens)\n",
    "    tokens = remove_tokens_with_special_characters(tokens)\n",
    "    tokens = remove_tokens_with_numbers(tokens)\n",
    "    return tokens"
   ]
  },
  {
   "cell_type": "code",
   "execution_count": null,
   "metadata": {},
   "outputs": [],
   "source": [
    "with open('Sentiment-Classifier-LR.pkl', 'rb') as f:\n",
    "    LR = pickle.load(f)\n",
    "with open('Sentiment-Classifier-DT.pkl', 'rb') as f:\n",
    "    DT = pickle.load(f)\n",
    "with open('Sentiment-Classifier-RF.pkl', 'rb') as f:\n",
    "    RF = pickle.load(f)\n",
    "with open('Sentiment-Classifier-KNN.pkl', 'rb') as f:\n",
    "    KNN = pickle.load(f)\n",
    "with open('Sentiment-Classifier-ADB.pkl', 'rb') as f:\n",
    "    ADB = pickle.load(f)\n",
    "with open('Sentiment-Classifier-XGB.pkl', 'rb') as f:\n",
    "    XGB = pickle.load(f)\n",
    "with open('Sentiment-Classifier-SVC.pkl', 'rb') as f:\n",
    "    SVM = pickle.load(f)\n",
    "with open('Sentiment-Classifier-GNB.pkl', 'rb') as f:\n",
    "    GNB = pickle.load(f)\n",
    "\n",
    "classifier_models = dict(\n",
    "    LogisticRegression=LR, \n",
    "    DecisionTree=DT, \n",
    "    RandomForest=RF, \n",
    "    KNearestNeighbours=KNN, \n",
    "    AdaBoost=ADB, \n",
    "    XGBoost=XGB, \n",
    "    SupportVectorClassifier=SVM, \n",
    "    GaussianNaiveBayes=GNB\n",
    ")"
   ]
  },
  {
   "cell_type": "code",
   "execution_count": null,
   "metadata": {},
   "outputs": [],
   "source": [
    "new_doc = \"The customer service is terrible. Communication is frustrating as it just walks you in circles and nothing gets accomplished. Claims that they work on your behalf to solve issues is unfounded. Moreover, some appeared to be flat out lies after we followed up with hotel property to confirm information provided.\"\n",
    "\n",
    "analyzer = SentimentIntensityAnalyzer()\n",
    "new_doc_polarity_score = analyzer.polarity_scores(new_doc)\n",
    "true_label = 'Positive' if new_doc_polarity_score['compound'] >= 0 else 'Negative'\n",
    "\n",
    "tokens = preprocess_review(new_doc)\n",
    "# print(tokens)\n",
    "\n",
    "key_words = set()\n",
    "vocab = vectorizer.get_feature_names_out()\n",
    "for token in tokens:\n",
    "    if token in vocab:\n",
    "        key_words.add(token)\n",
    "\n",
    "# TfIdf embeddings\n",
    "new_doc_embedding = vectorizer.transform([make_string(tokens)]).toarray()\n",
    "\n",
    "features = np.array(scaler.transform(new_doc_embedding))\n",
    "\n",
    "probabilities = []\n",
    "pred_labels = []\n",
    "for _, classifier in classifier_models.items():\n",
    "    pred_labels.append('Positive' if classifier.predict(features)[0] == 1 else 'Negative')\n",
    "    probabilities.append(classifier.predict_proba(features)[0])\n",
    "\n",
    "# print(probabilities)\n",
    "\n",
    "n = len(classifier_models)\n",
    "n_cols = 3\n",
    "n_rows = int(math.ceil(n/n_cols))\n",
    "subplot_titles = []\n",
    "for i, key in enumerate(classifier_models.keys()):\n",
    "    subplot_titles.append(f\"{key} -> {pred_labels[i]}\")\n",
    "\n",
    "fig = make_subplots(n_rows, n_cols, subplot_titles=subplot_titles)\n",
    "for row in range(n_rows):\n",
    "    for col in range(n_cols):\n",
    "        i = n_cols*row + col\n",
    "        try:\n",
    "            fig.add_trace(go.Bar(x=['Negative', 'Positive'], y=probabilities[i]), row=row+1, col=col+1)\n",
    "        except:\n",
    "            pass\n",
    "fig.update_layout(yaxis={'categoryorder':'total ascending'})\n",
    "fig.update_layout(showlegend=False, height=1000, title=f'True Label = {true_label}')\n",
    "fig.show()\n",
    "print(key_words)"
   ]
  }
 ],
 "metadata": {
  "kernelspec": {
   "display_name": "Python 3 (ipykernel)",
   "language": "python",
   "name": "python3"
  },
  "language_info": {
   "codemirror_mode": {
    "name": "ipython",
    "version": 3
   },
   "file_extension": ".py",
   "mimetype": "text/x-python",
   "name": "python",
   "nbconvert_exporter": "python",
   "pygments_lexer": "ipython3",
   "version": "3.10.9"
  }
 },
 "nbformat": 4,
 "nbformat_minor": 2
}
